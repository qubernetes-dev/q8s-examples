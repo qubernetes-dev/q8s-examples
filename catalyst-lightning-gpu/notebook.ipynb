{
 "cells": [
  {
   "cell_type": "code",
   "execution_count": 1,
   "id": "7bcf707c-8c7c-487e-a460-f4ec1226bc85",
   "metadata": {},
   "outputs": [
    {
     "data": {
      "text/plain": [
       "1.6721184635779294"
      ]
     },
     "metadata": {},
     "output_type": "display_data"
    },
    {
     "data": {
      "text/plain": [
       "WARNING:root:AutoGraph could not transform <function outer_factory.<locals>.inner_factory.<locals>.ag__circuit at 0x7fcf8b933130> and will run it as-is."
      ]
     },
     "metadata": {},
     "output_type": "display_data"
    },
    {
     "data": {
      "text/plain": [
       "Please report this to the TensorFlow team. When filing the bug, set the verbosity to 10 (on Linux, `export AUTOGRAPH_VERBOSITY=10`) and attach the full output."
      ]
     },
     "metadata": {},
     "output_type": "display_data"
    },
    {
     "data": {
      "text/plain": [
       "Cause: closure mismatch, requested ('ag__',), but source function had ()"
      ]
     },
     "metadata": {},
     "output_type": "display_data"
    },
    {
     "data": {
      "text/plain": [
       "To silence this warning, decorate the function with @tf.autograph.experimental.do_not_convert"
      ]
     },
     "metadata": {},
     "output_type": "display_data"
    },
    {
     "data": {
      "text/plain": [
       "[ 0.0000000e+00 -1.5889719e-01 -2.2204460e-16 -2.2204460e-16"
      ]
     },
     "metadata": {},
     "output_type": "display_data"
    },
    {
     "data": {
      "text/plain": [
       " -2.2204460e-16 -3.3306691e-16 -1.1102230e-16  7.7715612e-16"
      ]
     },
     "metadata": {},
     "output_type": "display_data"
    },
    {
     "data": {
      "text/plain": [
       " -2.2204460e-16  2.2204460e-16  6.6613381e-16 -1.1102230e-16"
      ]
     },
     "metadata": {},
     "output_type": "display_data"
    },
    {
     "data": {
      "text/plain": [
       " -2.2204460e-16 -7.7715612e-16 -2.2204460e-16 -2.2204460e-16"
      ]
     },
     "metadata": {},
     "output_type": "display_data"
    },
    {
     "data": {
      "text/plain": [
       " -5.5511151e-16  0.0000000e+00 -1.1102230e-16  2.2204460e-16"
      ]
     },
     "metadata": {},
     "output_type": "display_data"
    },
    {
     "data": {
      "text/plain": [
       " -2.2204460e-16 -4.4408921e-16  8.8817842e-16 -4.4408921e-16"
      ]
     },
     "metadata": {},
     "output_type": "display_data"
    },
    {
     "data": {
      "text/plain": [
       " -1.1102230e-16  1.1102230e-16 -1.1102230e-16 -1.1102230e-16"
      ]
     },
     "metadata": {},
     "output_type": "display_data"
    },
    {
     "data": {
      "text/plain": [
       " -4.4408921e-16 -3.3306691e-16 -3.3306691e-16  5.5511151e-16"
      ]
     },
     "metadata": {},
     "output_type": "display_data"
    },
    {
     "data": {
      "text/plain": [
       " -2.2204460e-16 -1.1102230e-16 -3.3306691e-16 -2.2204460e-16"
      ]
     },
     "metadata": {},
     "output_type": "display_data"
    },
    {
     "data": {
      "text/plain": [
       " -3.3306691e-16  4.4408921e-16 -2.2204460e-16 -2.2204460e-16"
      ]
     },
     "metadata": {},
     "output_type": "display_data"
    },
    {
     "data": {
      "text/plain": [
       " -1.1102230e-16 -1.1102230e-16 -2.2204460e-16  3.3306691e-16"
      ]
     },
     "metadata": {},
     "output_type": "display_data"
    },
    {
     "data": {
      "text/plain": [
       " -3.3306691e-16 -2.2204460e-16  1.1102230e-16  0.0000000e+00"
      ]
     },
     "metadata": {},
     "output_type": "display_data"
    },
    {
     "data": {
      "text/plain": [
       " -1.1102230e-16 -5.5511151e-16  0.0000000e+00  1.1102230e-16"
      ]
     },
     "metadata": {},
     "output_type": "display_data"
    },
    {
     "data": {
      "text/plain": [
       " -5.5511151e-16  0.0000000e+00  0.0000000e+00 -1.1102230e-16"
      ]
     },
     "metadata": {},
     "output_type": "display_data"
    },
    {
     "data": {
      "text/plain": [
       "  0.0000000e+00  1.1102230e-16  2.2204460e-16  0.0000000e+00"
      ]
     },
     "metadata": {},
     "output_type": "display_data"
    },
    {
     "data": {
      "text/plain": [
       "  0.0000000e+00 -1.1102230e-16  0.0000000e+00 -1.1102230e-16"
      ]
     },
     "metadata": {},
     "output_type": "display_data"
    },
    {
     "data": {
      "text/plain": [
       " -1.1102230e-16 -1.1102230e-16 -1.1102230e-16 -3.3306691e-16"
      ]
     },
     "metadata": {},
     "output_type": "display_data"
    },
    {
     "data": {
      "text/plain": [
       " -1.1102230e-16  0.0000000e+00  2.2204460e-16 -1.1102230e-16"
      ]
     },
     "metadata": {},
     "output_type": "display_data"
    },
    {
     "data": {
      "text/plain": [
       " -2.2204460e-16 -7.2870916e-01  0.0000000e+00]"
      ]
     },
     "metadata": {},
     "output_type": "display_data"
    },
    {
     "data": {
      "text/plain": []
     },
     "metadata": {},
     "output_type": "display_data"
    }
   ],
   "source": [
    "import pennylane as qml\n",
    "import jax.numpy as jnp\n",
    "\n",
    "import jax\n",
    "\n",
    "# Set number of wires\n",
    "num_wires = 25\n",
    "\n",
    "# Set a random seed\n",
    "key = jax.random.PRNGKey(0)\n",
    "\n",
    "dev = qml.device(\"lightning.gpu\", wires=num_wires)\n",
    "\n",
    "\n",
    "@qml.qjit(autograph=True)\n",
    "@qml.qnode(dev)\n",
    "def circuit(params):\n",
    "\n",
    "    # Apply layers of RZ and RY rotations\n",
    "    for i in range(num_wires):\n",
    "        qml.RZ(params[3 * i], wires=[i])\n",
    "        qml.RY(params[3 * i + 1], wires=[i])\n",
    "        qml.RZ(params[3 * i + 2], wires=[i])\n",
    "\n",
    "    return qml.expval(qml.PauliZ(0) + qml.PauliZ(num_wires - 1))\n",
    "\n",
    "\n",
    "# Initialize the weights\n",
    "weights = jax.random.uniform(key, shape=(3 * num_wires,), dtype=jnp.float32)\n",
    "\n",
    "print(circuit(weights))\n",
    "\n",
    "\n",
    "@qml.qjit(autograph=True)\n",
    "def workflow(params):\n",
    "    g = qml.grad(circuit)\n",
    "    return g(params)\n",
    "\n",
    "\n",
    "print(workflow(weights))\n"
   ]
  },
  {
   "cell_type": "code",
   "execution_count": null,
   "id": "1f050037-cd1b-41eb-a943-16dd1a1fc9d0",
   "metadata": {},
   "outputs": [],
   "source": []
  }
 ],
 "metadata": {
  "kernelspec": {
   "display_name": "Q8s kernel",
   "language": "python",
   "name": "q8s"
  },
  "language_info": {
   "file_extension": ".py",
   "mimetype": "text/x-python",
   "name": "Any text",
   "nbconvert_exporter": "python",
   "pygments_lexer": "ipython3"
  }
 },
 "nbformat": 4,
 "nbformat_minor": 5
}
