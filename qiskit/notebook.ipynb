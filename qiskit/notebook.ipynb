{
 "cells": [
  {
   "cell_type": "markdown",
   "id": "e873d9ef-3942-47b0-b178-93d4b9a41e97",
   "metadata": {},
   "source": [
    "## CPU"
   ]
  },
  {
   "cell_type": "code",
   "execution_count": 7,
   "id": "3bf690df-938f-46a9-9904-6f71b5f0d01a",
   "metadata": {},
   "outputs": [
    {
     "data": {
      "text/plain": [
       "Total count for 00 and 11 are: {'11': 986, '00': 1014}"
      ]
     },
     "metadata": {},
     "output_type": "display_data"
    },
    {
     "data": {
      "text/plain": [
       "     ┌───┐     ┌─┐   "
      ]
     },
     "metadata": {},
     "output_type": "display_data"
    },
    {
     "data": {
      "text/plain": [
       "q_0: ┤ H ├──■──┤M├───"
      ]
     },
     "metadata": {},
     "output_type": "display_data"
    },
    {
     "data": {
      "text/plain": [
       "     └───┘┌─┴─┐└╥┘┌─┐"
      ]
     },
     "metadata": {},
     "output_type": "display_data"
    },
    {
     "data": {
      "text/plain": [
       "q_1: ─────┤ X ├─╫─┤M├"
      ]
     },
     "metadata": {},
     "output_type": "display_data"
    },
    {
     "data": {
      "text/plain": [
       "          └───┘ ║ └╥┘"
      ]
     },
     "metadata": {},
     "output_type": "display_data"
    },
    {
     "data": {
      "text/plain": [
       "c: 2/═══════════╩══╩═"
      ]
     },
     "metadata": {},
     "output_type": "display_data"
    },
    {
     "data": {
      "text/plain": [
       "                0  1 "
      ]
     },
     "metadata": {},
     "output_type": "display_data"
    },
    {
     "data": {
      "text/plain": []
     },
     "metadata": {},
     "output_type": "display_data"
    }
   ],
   "source": [
    "from qiskit import QuantumCircuit, transpile\n",
    "from qiskit_aer import AerSimulator\n",
    "\n",
    "\n",
    "def demo_function(shotsAmount=1000):\n",
    "    simulator = AerSimulator()\n",
    "\n",
    "    circuit = QuantumCircuit(2, 2)\n",
    "    circuit.h(0)\n",
    "    circuit.cx(0, 1)\n",
    "    circuit.measure([0, 1], [0, 1])\n",
    "\n",
    "    compiled_circuit = transpile(circuit, simulator)\n",
    "    job = simulator.run(compiled_circuit, shots=shotsAmount)\n",
    "    result = job.result()\n",
    "    counts = result.get_counts()\n",
    "\n",
    "    print(\"Total count for 00 and 11 are:\", counts)\n",
    "    print(circuit)\n",
    "\n",
    "\n",
    "result = demo_function(2000)"
   ]
  },
  {
   "cell_type": "markdown",
   "id": "f7986a96-96f3-4b75-84ee-9db48165d0e1",
   "metadata": {},
   "source": [
    "## GPU"
   ]
  },
  {
   "cell_type": "code",
   "execution_count": 6,
   "id": "f8a2f0e6-bccc-4967-850a-f7b58432572c",
   "metadata": {},
   "outputs": [
    {
     "data": {
      "text/plain": [
       "Total count for 00 and 11 are: {'00': 974, '11': 1026}"
      ]
     },
     "metadata": {},
     "output_type": "display_data"
    },
    {
     "data": {
      "text/plain": [
       "     ┌───┐     ┌─┐   "
      ]
     },
     "metadata": {},
     "output_type": "display_data"
    },
    {
     "data": {
      "text/plain": [
       "q_0: ┤ H ├──■──┤M├───"
      ]
     },
     "metadata": {},
     "output_type": "display_data"
    },
    {
     "data": {
      "text/plain": [
       "     └───┘┌─┴─┐└╥┘┌─┐"
      ]
     },
     "metadata": {},
     "output_type": "display_data"
    },
    {
     "data": {
      "text/plain": [
       "q_1: ─────┤ X ├─╫─┤M├"
      ]
     },
     "metadata": {},
     "output_type": "display_data"
    },
    {
     "data": {
      "text/plain": [
       "          └───┘ ║ └╥┘"
      ]
     },
     "metadata": {},
     "output_type": "display_data"
    },
    {
     "data": {
      "text/plain": [
       "c: 2/═══════════╩══╩═"
      ]
     },
     "metadata": {},
     "output_type": "display_data"
    },
    {
     "data": {
      "text/plain": [
       "                0  1 "
      ]
     },
     "metadata": {},
     "output_type": "display_data"
    },
    {
     "data": {
      "text/plain": []
     },
     "metadata": {},
     "output_type": "display_data"
    }
   ],
   "source": [
    "from qiskit import QuantumCircuit, transpile\n",
    "from qiskit_aer import AerSimulator\n",
    "\n",
    "\n",
    "def demo_function(shotsAmount=1000):\n",
    "    simulator = AerSimulator(method=\"statevector\", device=\"GPU\")\n",
    "\n",
    "    circuit = QuantumCircuit(2, 2)\n",
    "    circuit.h(0)\n",
    "    circuit.cx(0, 1)\n",
    "    circuit.measure([0, 1], [0, 1])\n",
    "\n",
    "    compiled_circuit = transpile(circuit, simulator)\n",
    "    job = simulator.run(compiled_circuit, shots=shotsAmount)\n",
    "    result = job.result()\n",
    "    counts = result.get_counts()\n",
    "\n",
    "    print(\"Total count for 00 and 11 are:\", counts)\n",
    "    print(circuit)\n",
    "\n",
    "\n",
    "result = demo_function(2000)"
   ]
  },
  {
   "cell_type": "code",
   "execution_count": null,
   "id": "167a5b85-45e5-4e1c-98d9-9a7f200c2fb2",
   "metadata": {},
   "outputs": [],
   "source": [
    "## VTT QPU Demo"
   ]
  },
  {
   "cell_type": "code",
   "execution_count": 5,
   "id": "3eb2d6d2-c35c-4100-a515-0697c2c4fd13",
   "metadata": {},
   "outputs": [
    {
     "data": {
      "text/plain": [
       "/usr/local/lib/python3.12/site-packages/iqm/iqm_client/iqm_client.py:142: UserWarning: Your IQM Client version 23.4 was built for a different version of IQM Server. You might encounter issues. For the best experience, consider using a version of IQM Client that satisfies 20.8 <= iqm-client < 22.0."
      ]
     },
     "metadata": {},
     "output_type": "display_data"
    },
    {
     "data": {
      "text/plain": [
       "  warnings.warn(version_incompatibility_msg)"
      ]
     },
     "metadata": {},
     "output_type": "display_data"
    },
    {
     "data": {
      "text/plain": [
       "Total count for 00 and 11 are: {'11': 488, '00': 512}"
      ]
     },
     "metadata": {},
     "output_type": "display_data"
    },
    {
     "data": {
      "text/plain": [
       "     ┌───┐     ┌─┐   "
      ]
     },
     "metadata": {},
     "output_type": "display_data"
    },
    {
     "data": {
      "text/plain": [
       "q_0: ┤ H ├──■──┤M├───"
      ]
     },
     "metadata": {},
     "output_type": "display_data"
    },
    {
     "data": {
      "text/plain": [
       "     └───┘┌─┴─┐└╥┘┌─┐"
      ]
     },
     "metadata": {},
     "output_type": "display_data"
    },
    {
     "data": {
      "text/plain": [
       "q_1: ─────┤ X ├─╫─┤M├"
      ]
     },
     "metadata": {},
     "output_type": "display_data"
    },
    {
     "data": {
      "text/plain": [
       "          └───┘ ║ └╥┘"
      ]
     },
     "metadata": {},
     "output_type": "display_data"
    },
    {
     "data": {
      "text/plain": [
       "c: 2/═══════════╩══╩═"
      ]
     },
     "metadata": {},
     "output_type": "display_data"
    },
    {
     "data": {
      "text/plain": [
       "                0  1 "
      ]
     },
     "metadata": {},
     "output_type": "display_data"
    },
    {
     "data": {
      "text/plain": []
     },
     "metadata": {},
     "output_type": "display_data"
    }
   ],
   "source": [
    "from qiskit import QuantumCircuit, transpile\n",
    "from iqm.qiskit_iqm import IQMProvider\n",
    "\n",
    "\n",
    "def demo_function(shotsAmount=1000):\n",
    "    provider = IQMProvider(\"https://qx.vtt.fi/api/devices/demo\")\n",
    "    backend = provider.get_backend()\n",
    "\n",
    "    circuit = QuantumCircuit(2, 2)\n",
    "    circuit.h(0)\n",
    "    circuit.cx(0, 1)\n",
    "    circuit.measure([0, 1], [0, 1])\n",
    "\n",
    "    compiled_circuit = transpile(circuit, backend)\n",
    "    job = backend.run(compiled_circuit, shots=shotsAmount)\n",
    "    result = job.result()\n",
    "    counts = result.get_counts()\n",
    "\n",
    "    print(\"Total count for 00 and 11 are:\", counts)\n",
    "    print(circuit)\n",
    "\n",
    "\n",
    "result = demo_function(1000)"
   ]
  },
  {
   "cell_type": "code",
   "execution_count": null,
   "id": "092b8e01-9aee-45bc-b78e-d0d3e847d3e4",
   "metadata": {},
   "outputs": [],
   "source": []
  }
 ],
 "metadata": {
  "kernelspec": {
   "display_name": "Q8s kernel",
   "language": "python",
   "name": "q8s"
  },
  "language_info": {
   "file_extension": ".py",
   "mimetype": "text/x-python",
   "name": "Any text",
   "nbconvert_exporter": "python",
   "pygments_lexer": "ipython3"
  }
 },
 "nbformat": 4,
 "nbformat_minor": 5
}
